{
 "cells": [
  {
   "cell_type": "markdown",
   "id": "81f87bea",
   "metadata": {},
   "source": [
    "### <center> Introduction aux chaînes de Markov, Simulation python3</center>"
   ]
  },
  {
   "cell_type": "code",
   "execution_count": 2,
   "id": "prescribed-preliminary",
   "metadata": {},
   "outputs": [],
   "source": [
    "%matplotlib inline\n",
    "import pandas as pd\n",
    "import numpy as np\n",
    "import matplotlib.pyplot as plt\n",
    "import random as rnd\n",
    "import seaborn as sns"
   ]
  },
  {
   "cell_type": "markdown",
   "id": "db7a83d7",
   "metadata": {},
   "source": [
    "## Partie I"
   ]
  },
  {
   "cell_type": "markdown",
   "id": "d098b863",
   "metadata": {},
   "source": [
    "### Question 1"
   ]
  },
  {
   "cell_type": "code",
   "execution_count": 3,
   "id": "further-astrology",
   "metadata": {},
   "outputs": [],
   "source": [
    "def trajectory(P,  startingpoint,  steps):\n",
    "    \"\"\"\n",
    "    Print the trajectory followed by the Markov chain with transition matrix\n",
    "    Pandstarting from the startingpoint in steps number of steps\n",
    "    Args:\n",
    "        P (array): the transition matrix,\n",
    "        startingpoint (int),\n",
    "        steps (int)\n",
    "    Returns:\n",
    "            X (list)\n",
    "    \"\"\"\n",
    "    X = []\n",
    "    state = startingpoint\n",
    "    \n",
    "    for k in range(steps):\n",
    "        state = np.random.choice(a=range(len(P)), p=P[state])\n",
    "        X.append(state)\n",
    "        \n",
    "    return X"
   ]
  },
  {
   "cell_type": "code",
   "execution_count": 4,
   "id": "nuclear-groove",
   "metadata": {},
   "outputs": [
    {
     "data": {
      "text/plain": [
       "[0, 0, 1, 0, 1, 0, 1, 0, 0, 0, 1, 0, 0, 1, 0, 0, 0, 1, 0, 0]"
      ]
     },
     "execution_count": 4,
     "metadata": {},
     "output_type": "execute_result"
    }
   ],
   "source": [
    "P = np.array([[0.6, 0.4], [1, 0]])\n",
    "startingpoint = 0\n",
    "steps = 20 \n",
    "trajectory(P,  startingpoint,  steps)"
   ]
  },
  {
   "cell_type": "markdown",
   "id": "b808a6ee",
   "metadata": {},
   "source": [
    "### Question 2"
   ]
  },
  {
   "cell_type": "code",
   "execution_count": 5,
   "id": "attempted-wrestling",
   "metadata": {},
   "outputs": [
    {
     "data": {
      "text/plain": [
       "[0, 0, 0, 0, 0, 0, 0, 0, 1, 0, 1, 0, 1, 0, 1, 0, 1, 0, 1, 0]"
      ]
     },
     "execution_count": 5,
     "metadata": {},
     "output_type": "execute_result"
    }
   ],
   "source": [
    "P = np.array([[0.6, 0.4], [1, 0]])\n",
    "startingpoint = 1\n",
    "steps = 20 # For 20 steps\n",
    "trajectory(P,  startingpoint,  steps)"
   ]
  },
  {
   "cell_type": "code",
   "execution_count": 6,
   "id": "genuine-plaza",
   "metadata": {},
   "outputs": [],
   "source": [
    "P = np.array([[0.6, 0.4], [1, 0]])\n",
    "startingpoint = 0\n",
    "steps = 50 # For 50 steps\n",
    "trajectories = trajectory(P,  startingpoint,  steps)"
   ]
  },
  {
   "cell_type": "code",
   "execution_count": 7,
   "id": "recreational-investigation",
   "metadata": {},
   "outputs": [],
   "source": [
    "P = np.array([[0.6, 0.2, 0.2], [0.4, 0, 0.6], [0, 0.8, 0.2]])\n",
    "startingpoint = 0\n",
    "steps = 200 # For 200 steps\n",
    "trajectories = trajectory(P,  startingpoint,  steps)"
   ]
  },
  {
   "cell_type": "code",
   "execution_count": 8,
   "id": "surprising-funeral",
   "metadata": {},
   "outputs": [
    {
     "data": {
      "text/plain": [
       "[3, 2, 2, 1, 0, 2, 2, 2, 1, 1]"
      ]
     },
     "execution_count": 8,
     "metadata": {},
     "output_type": "execute_result"
    }
   ],
   "source": [
    "P = np.array([[0, 0 , 0.5, 0.5], [0.6, 0.4, 0, 0], [0, 0.2, 0.8, 0], [0, 0.1, 0.9, 0]])\n",
    "startingpoint = 0\n",
    "steps = 10\n",
    "trajectory(P,  startingpoint,  steps)"
   ]
  },
  {
   "cell_type": "code",
   "execution_count": 9,
   "id": "forbidden-cinema",
   "metadata": {},
   "outputs": [],
   "source": [
    "P = np.array([[0, 0 , 0.5, 0.5], [0.6, 0.4, 0, 0], [0, 0.2, 0.8, 0], [0, 0.1, 0.9, 0]])\n",
    "startingpoint = 0\n",
    "steps = 50 # For 20 steps\n",
    "trajectories = trajectory(P,  startingpoint,  steps)"
   ]
  },
  {
   "cell_type": "code",
   "execution_count": 10,
   "id": "behind-economics",
   "metadata": {},
   "outputs": [],
   "source": [
    "P = np.array([[0, 0 , 0.5, 0.5], [0.6, 0.4, 0, 0], [0, 0.2, 0.8, 0], [0, 0.1, 0.9, 0]])\n",
    "startingpoint = 0\n",
    "steps = 200 # For 200 steps\n",
    "trajectories = trajectory(P,  startingpoint,  steps)"
   ]
  },
  {
   "cell_type": "markdown",
   "id": "e5e56863",
   "metadata": {},
   "source": [
    "### Question 3"
   ]
  },
  {
   "cell_type": "code",
   "execution_count": 11,
   "id": "28bea152",
   "metadata": {},
   "outputs": [],
   "source": [
    "def stationary_station_solve(P):\n",
    "    \"\"\"\n",
    "     Finding the stationary distributions using the appropriate numpy methods\n",
    "     Args:\n",
    "         P (np.matrix): the transition matrix\n",
    "    Returns:\n",
    "        PI (list): the tationary distributions\n",
    "    \"\"\"\n",
    "    A = (P - np.eye(len(P))).T\n",
    "    \n",
    "    A = np.append(A, [np.ones(len(A))], axis=0)\n",
    "    Q, R = np.linalg.qr(A)   # Décomposition QR, Q matrice orthogonale et R inversible\n",
    "    R_1 = np.linalg.inv(R)\n",
    "    B = np.zeros(len(A))   # Second du système à résoudre\n",
    "    B[-1] = 1 # Ajout de la valeur de PI1 + .. = 1\n",
    "    PI = np.dot(R_1, np.dot(Q.T, B)) # Résolution de PI*P = PI\n",
    "    \n",
    "    return PI"
   ]
  },
  {
   "cell_type": "code",
   "execution_count": 12,
   "id": "1182494a",
   "metadata": {},
   "outputs": [
    {
     "data": {
      "text/plain": [
       "(array([0.71428571, 0.28571429]), 1.0)"
      ]
     },
     "execution_count": 12,
     "metadata": {},
     "output_type": "execute_result"
    }
   ],
   "source": [
    "P = np.array([[0.6, 0.4], [1, 0]])\n",
    "stationary_station_solve(P), sum(stationary_station_solve(P))"
   ]
  },
  {
   "cell_type": "code",
   "execution_count": 13,
   "id": "73cc0b3b",
   "metadata": {},
   "outputs": [
    {
     "data": {
      "text/plain": [
       "array([0.04201681, 0.33613445, 0.62184874])"
      ]
     },
     "execution_count": 13,
     "metadata": {},
     "output_type": "execute_result"
    }
   ],
   "source": [
    "P = np.array([\n",
    "    [ 0.2, 0.6, 0.2],\n",
    "    [0.1, 0, 0.9],\n",
    "    [0, 0.5, 0.5]\n",
    "])\n",
    "\n",
    "stationary_station_solve(P)"
   ]
  },
  {
   "cell_type": "code",
   "execution_count": 14,
   "id": "cf260df8",
   "metadata": {},
   "outputs": [
    {
     "data": {
      "text/plain": [
       "(array([0.33333333, 0.33333333, 0.33333333]), 1.0)"
      ]
     },
     "execution_count": 14,
     "metadata": {},
     "output_type": "execute_result"
    }
   ],
   "source": [
    "P = np.array([[0.6, 0.2, 0.2], [0.4, 0, 0.6], [0, 0.8, 0.2]])\n",
    "stationary_station_solve(P), sum(stationary_station_solve(P))"
   ]
  },
  {
   "cell_type": "code",
   "execution_count": 15,
   "id": "239b322e",
   "metadata": {},
   "outputs": [
    {
     "data": {
      "text/plain": [
       "(array([0.12631579, 0.21052632, 0.6       , 0.06315789]), 1.0)"
      ]
     },
     "execution_count": 15,
     "metadata": {},
     "output_type": "execute_result"
    }
   ],
   "source": [
    "P = np.array([[0, 0 , 0.5, 0.5], [0.6, 0.4, 0, 0], [0, 0.2, 0.8, 0], [0, 0.1, 0.9, 0]])\n",
    "stationary_station_solve(P), sum(stationary_station_solve(P))"
   ]
  },
  {
   "cell_type": "markdown",
   "id": "90ab0e75",
   "metadata": {},
   "source": [
    "### Question 4"
   ]
  },
  {
   "cell_type": "code",
   "execution_count": 16,
   "id": "dramatic-review",
   "metadata": {},
   "outputs": [],
   "source": [
    "def random_walk(P, startingpoint, steps):\n",
    "    \"\"\"\n",
    "    Random walk starting from the startingpoint\n",
    "    as teps Numbers of steps and returns an array of frequency\n",
    "    of the visits of each node\n",
    "    Args:\n",
    "        P (array): the transition matrix,\n",
    "        startingpoint (int),\n",
    "        steps (int)\n",
    "    Returns:\n",
    "            frequency (dictory)\n",
    "    \n",
    "    \"\"\"\n",
    "    \n",
    "    frequency = {}\n",
    "    trajectories = trajectory(P,  startingpoint,  steps)\n",
    "    trajectories.sort()\n",
    "    states = [state for state in range(len(P))]\n",
    "    \n",
    "    for state in states:\n",
    "        state_counter = 0\n",
    "        for state_traj in trajectories:\n",
    "            if state == state_traj:\n",
    "                state_counter +=1\n",
    "        frequency[f'frenquency of {state}'] = state_counter/steps\n",
    "        \n",
    "    return frequency"
   ]
  },
  {
   "cell_type": "code",
   "execution_count": 17,
   "id": "domestic-divorce",
   "metadata": {},
   "outputs": [
    {
     "data": {
      "text/plain": [
       "{'frenquency of 0': 0.137,\n",
       " 'frenquency of 1': 0.241,\n",
       " 'frenquency of 2': 0.549,\n",
       " 'frenquency of 3': 0.073}"
      ]
     },
     "execution_count": 17,
     "metadata": {},
     "output_type": "execute_result"
    }
   ],
   "source": [
    "P = np.array([[0, 0 , 0.5, 0.5], [0.6, 0.4, 0, 0], [0, 0.2, 0.8, 0], [0, 0.1, 0.9, 0]])\n",
    "startingpoint = 1\n",
    "steps = 1000\n",
    "random_walk(P,  startingpoint,  steps)"
   ]
  },
  {
   "cell_type": "markdown",
   "id": "412d5c20",
   "metadata": {},
   "source": [
    "### Question 5"
   ]
  },
  {
   "cell_type": "code",
   "execution_count": 18,
   "id": "chinese-gazette",
   "metadata": {},
   "outputs": [],
   "source": [
    "def return_time(P, node):\n",
    "    \"\"\"\n",
    "    Run a random walk in the Markov chain the return time of the node\n",
    "    Args:\n",
    "        P (array): the transition matrix,\n",
    "        node (int),\n",
    "    Returns:\n",
    "            number_time (int)\n",
    "    \"\"\"\n",
    "    number_time = 0\n",
    "    walk = np.random.choice(a=range(len(P)), p=P[node])\n",
    "    while walk != node:\n",
    "        walk = np.random.choice(a=range(len(P)), p=P[walk])\n",
    "        \n",
    "        number_time+=1\n",
    "            \n",
    "    return number_time+1"
   ]
  },
  {
   "cell_type": "code",
   "execution_count": 30,
   "id": "endless-peninsula",
   "metadata": {},
   "outputs": [
    {
     "data": {
      "text/plain": [
       "3"
      ]
     },
     "execution_count": 30,
     "metadata": {},
     "output_type": "execute_result"
    }
   ],
   "source": [
    "P = np.array([[0, 0 , 0.5, 0.5], [0.6, 0.4, 0, 0], [0, 0.2, 0.8, 0], [0, 0.1, 0.9, 0]])\n",
    "node = 2\n",
    "return_time(P, node)"
   ]
  },
  {
   "cell_type": "markdown",
   "id": "a88971b7",
   "metadata": {},
   "source": [
    "### Question 6"
   ]
  },
  {
   "cell_type": "code",
   "execution_count": 31,
   "id": "acquired-format",
   "metadata": {},
   "outputs": [],
   "source": [
    "def return_time_states(P, steps):\n",
    "    \"\"\"\n",
    "    Estimate the expected first return time using a big number of random walks starting at each node\n",
    "    Args:\n",
    "        P (array): the transition matrix,\n",
    "        steps (int),\n",
    "    Returns:\n",
    "            return_means (list)\n",
    "    \"\"\"\n",
    "    \n",
    "    states = [x for x in range(len(P))]\n",
    "    return_means = []\n",
    "    for state in states:\n",
    "        number_time = 0\n",
    "        for _ in range(steps):\n",
    "            number_time +=return_time(P, state)\n",
    "        return_means.append(number_time/steps)\n",
    "    return return_means"
   ]
  },
  {
   "cell_type": "code",
   "execution_count": 32,
   "id": "narrow-yukon",
   "metadata": {},
   "outputs": [
    {
     "data": {
      "text/plain": [
       "[8.011, 4.636, 1.648, 16.7]"
      ]
     },
     "execution_count": 32,
     "metadata": {},
     "output_type": "execute_result"
    }
   ],
   "source": [
    "steps = 1000\n",
    "return_time_states(P, steps)"
   ]
  },
  {
   "cell_type": "markdown",
   "id": "7c3eeed3",
   "metadata": {},
   "source": [
    "## Partie II\n"
   ]
  },
  {
   "cell_type": "markdown",
   "id": "287c9940",
   "metadata": {},
   "source": [
    "### Question 7"
   ]
  },
  {
   "cell_type": "code",
   "execution_count": 33,
   "id": "strong-eligibility",
   "metadata": {},
   "outputs": [],
   "source": [
    "def random_walk(x, y, steps):\n",
    "    \"\"\"\n",
    "    The coordinates of the points at the end of the random walk\n",
    "    Args:\n",
    "         x (int),\n",
    "         y (int),\n",
    "         steps (int)\n",
    "    Returns:\n",
    "           coordinates[-1] (tuple): The coordinates of the points at the end of the random walk  \n",
    "    \"\"\"\n",
    "    \n",
    "    coordinates = [(x, y)]\n",
    "    walk_possibilities = [(0, 1), (0, -1), (-1, 0), (1, 0)]\n",
    "    \n",
    "    state_x, state_y = (x, y)\n",
    "    \n",
    "    for step in range(steps):\n",
    "        k = rnd.choice(walk_possibilities)\n",
    "        state_x, state_y = state_x + k[0], state_y + k[1]\n",
    "        coordinates.append((state_x, state_y))\n",
    "        \n",
    "    return coordinates[-1]"
   ]
  },
  {
   "cell_type": "code",
   "execution_count": 34,
   "id": "9e7ec149",
   "metadata": {},
   "outputs": [
    {
     "data": {
      "text/plain": [
       "(-4, 0)"
      ]
     },
     "execution_count": 34,
     "metadata": {},
     "output_type": "execute_result"
    }
   ],
   "source": [
    "steps = 100\n",
    "x =  0\n",
    "y = 0\n",
    "last_position = random_walk(x, y, steps)\n",
    "last_position"
   ]
  },
  {
   "cell_type": "markdown",
   "id": "c13e521e",
   "metadata": {},
   "source": [
    "### Question 8"
   ]
  },
  {
   "cell_type": "code",
   "execution_count": 35,
   "id": "painful-parade",
   "metadata": {},
   "outputs": [],
   "source": [
    "def random_whole_walk(x, y, steps):\n",
    "    \"\"\"\n",
    "    Drawing the simulation of random walk for a numberof steps = 1000, and starting from the origin (0,0)\n",
    "    Args:\n",
    "         x (int),\n",
    "         y (int),\n",
    "         steps (int)\n",
    "    Returns:\n",
    "           coordinates[-1] (tuple): coordinates representing of the random walk for a numberof steps  \n",
    "    \"\"\"\n",
    "    \n",
    "    positions = [(x, y)]\n",
    "    walk_possibilities = [(0, 1), (0, -1), (-1, 0), (1, 0)]\n",
    "    state_x, state_y = (x, y)\n",
    "    \n",
    "    for step in range(steps):\n",
    "        move_position = rnd.choice(walk_possibilities)\n",
    "        \n",
    "        state_x, state_y = state_x + move_position[0], state_y + move_position[1]\n",
    "        positions.append((state_x, state_y))\n",
    "        \n",
    "    return positions"
   ]
  },
  {
   "cell_type": "code",
   "execution_count": 39,
   "id": "aggressive-culture",
   "metadata": {},
   "outputs": [
    {
     "data": {
      "image/png": "[encoded data removed]",
      "text/plain": [
       "<Figure size 792x360 with 1 Axes>"
      ]
     },
     "metadata": {
      "needs_background": "light"
     },
     "output_type": "display_data"
    }
   ],
   "source": [
    "steps = 1000\n",
    "x =  0\n",
    "y = 0\n",
    "coordinates = random_whole_walk(x, y, steps)\n",
    "\n",
    "position_x, position_y = [pos[0] for pos in coordinates], [pos[1] for pos in coordinates]\n",
    "\n",
    "plt.figure(figsize=(11, 5))\n",
    "plot = plt.plot(\n",
    "    position_x,\n",
    "    position_y,\n",
    "    label=\"Path\",\n",
    ")\n",
    "plot1 = plt.scatter(\n",
    "    position_x[0],\n",
    "    position_y[0],\n",
    "    color='black',\n",
    "    label=\"Starting position\",\n",
    "    linewidths=3,\n",
    ")\n",
    "plt2 = plt.scatter(\n",
    "    position_x[-1],\n",
    "    position_y[-1],\n",
    "    color='red',\n",
    "    label=\"Final position\",\n",
    "    linewidths=3\n",
    ")\n",
    "plt.title(f\"Random walk through {steps} steps\")\n",
    "plt.xlabel(\"X coordiante\")\n",
    "plt.ylabel(\"Y coordiante\")\n",
    "plt.legend()\n",
    "plt.show()"
   ]
  },
  {
   "cell_type": "markdown",
   "id": "6dbb08d9",
   "metadata": {},
   "source": [
    "### Question 9"
   ]
  },
  {
   "cell_type": "code",
   "execution_count": 40,
   "id": "36755ef8",
   "metadata": {},
   "outputs": [],
   "source": [
    "def random_whole_walk_hit_rectangle(x, y):\n",
    "    \"\"\"\n",
    "    Drawing the simulation of walk inside the rectangle of dimension (100,  80) with the origin\n",
    "    at the centre of rectangle,  the walks tarts from the origin and it ends until it hits the wall\n",
    "    Args:\n",
    "        x (int),\n",
    "        y (int),\n",
    "    Returns:\n",
    "            positions (list): coordinates representing of the random walk until it hits the walls\n",
    "    \"\"\"\n",
    "    \n",
    "    positions = [(x, y)]\n",
    "    walk_possibilities = [(0, 1), (0, -1), (-1, 0), (1, 0)]\n",
    "    alpha = 1\n",
    "\n",
    "    state_x, state_y = (x, y)\n",
    "    \n",
    "    while alpha != 0:\n",
    "        \n",
    "        walk = rnd.choice(walk_possibilities)\n",
    "        state_x, state_y = state_x + walk[0], state_y + walk[1]\n",
    "        positions.append((state_x, state_y))\n",
    "        \n",
    "        if state_x == 0 or state_y == 0:\n",
    "            alpha = 0\n",
    "        elif state_x == 100 or state_y == 80:\n",
    "            alpha = 0\n",
    "            \n",
    "    return positions"
   ]
  },
  {
   "cell_type": "code",
   "execution_count": 41,
   "id": "fd203241",
   "metadata": {},
   "outputs": [],
   "source": [
    "width, height = (100, 80)\n",
    "x, y = (width/2, height/2)\n",
    "random_walk_hit_wall = random_whole_walk_hit_rectangle(x, y)"
   ]
  },
  {
   "cell_type": "code",
   "execution_count": 42,
   "id": "60f29d09",
   "metadata": {},
   "outputs": [
    {
     "data": {
      "image/png": "[encoded data removed]",
      "text/plain": [
       "<Figure size 648x360 with 1 Axes>"
      ]
     },
     "metadata": {
      "needs_background": "light"
     },
     "output_type": "display_data"
    },
    {
     "data": {
      "text/plain": [
       "(100.0, 69.0)"
      ]
     },
     "execution_count": 42,
     "metadata": {},
     "output_type": "execute_result"
    }
   ],
   "source": [
    "from matplotlib.patches import Rectangle\n",
    "\n",
    "width, height = (100, 80)\n",
    "fig, ax = plt.subplots(figsize=(9, 5))\n",
    "\n",
    "x =  width/2\n",
    "y = height/2\n",
    "\n",
    "coordinates = random_whole_walk_hit_rectangle(x, y)\n",
    "position_x, position_y = [cord[0] for cord in coordinates], [cord[1] for cord in coordinates]\n",
    "\n",
    "ax.add_patch(Rectangle(\n",
    "    (0, 0), width, height,edgecolor = 'yellow',\n",
    "    facecolor = 'blue',\n",
    "    fill=False,\n",
    "    lw=3)\n",
    ")\n",
    "\n",
    "ax.plot(position_x, position_y)\n",
    "\n",
    "ax.scatter(x, y, c='r', label='Starting poisition', linewidths=3)\n",
    "ax.scatter(position_x[-1], position_y[-1], c='g', label='Final poisition', linewidths=3)\n",
    "\n",
    "plt.title(\"The walk starts from the origin and it ends until it hits the wall\")\n",
    "plt.legend()\n",
    "plt.show()\n",
    "position_x[-1], position_y[-1]"
   ]
  },
  {
   "cell_type": "markdown",
   "id": "a9a4a9ad",
   "metadata": {},
   "source": [
    "### Question 10"
   ]
  },
  {
   "cell_type": "code",
   "execution_count": 43,
   "id": "fe0c0d8a",
   "metadata": {},
   "outputs": [],
   "source": [
    "def output_elapsed_number_steps(x, y):\n",
    "    \"\"\"\n",
    "    Output the elapsed the time(the number of steps) ofa random walk starting at the point (x,y) \n",
    "    until it hits the walls.\n",
    "    Args:\n",
    "        x (int),\n",
    "        y (int),\n",
    "    Returns:\n",
    "            number_steps (int):the number of stpes\n",
    "    \"\"\"\n",
    "    walk_possibilities = [(0, 1), (0, -1), (-1, 0), (1, 0)]\n",
    "    alpha = 1\n",
    "    number_steps = 0\n",
    "    state_x, state_y = (x, y)\n",
    "    \n",
    "    while alpha != 0:\n",
    "        \n",
    "        walk = rnd.choice(walk_possibilities)\n",
    "        state_x, state_y = state_x + walk[0], state_y + walk[1]\n",
    "        number_steps +=1\n",
    "        \n",
    "        if state_x == 0 or state_y == 0:\n",
    "            alpha = 0\n",
    "        elif state_x == 100 or state_y == 80:\n",
    "            alpha = 0\n",
    "            \n",
    "    return number_steps"
   ]
  },
  {
   "cell_type": "code",
   "execution_count": 44,
   "id": "d0132e26",
   "metadata": {},
   "outputs": [
    {
     "data": {
      "text/plain": [
       "1649"
      ]
     },
     "execution_count": 44,
     "metadata": {},
     "output_type": "execute_result"
    }
   ],
   "source": [
    "x, y = width/2, height/2\n",
    "output_elapsed_number_steps(x, y)"
   ]
  },
  {
   "cell_type": "markdown",
   "id": "74216f58",
   "metadata": {},
   "source": [
    "### Question 11"
   ]
  },
  {
   "cell_type": "code",
   "execution_count": 45,
   "id": "cf42de5a",
   "metadata": {},
   "outputs": [],
   "source": [
    "def output_number_double_width_height(x, y, width, height):\n",
    "    \"\"\"\n",
    "    Output the elapsed the time(the number of steps) ofa random walk starting at the point (x,y) \n",
    "    until it hits the walls.\n",
    "    Args:\n",
    "        x (int),\n",
    "        y (int),\n",
    "        width (int), \n",
    "        height (int),\n",
    "    Returns:\n",
    "            number_steps (int):the number of stpes\n",
    "\n",
    "    \"\"\"\n",
    "    walk_possibilities = [(0, 1), (0, -1), (-1, 0), (1, 0)]\n",
    "    alpha = 1\n",
    "    number_steps = 0\n",
    "    state_x, state_y = (x, y)\n",
    "    \n",
    "    while alpha != 0:\n",
    "        \n",
    "        walk = rnd.choice(walk_possibilities)\n",
    "        state_x, state_y = state_x + walk[0], state_y + walk[1]\n",
    "        number_steps +=1\n",
    "        \n",
    "        if state_x == 0 or state_y == 0:\n",
    "            alpha = 0\n",
    "        elif state_x == 200 or state_y == 160:\n",
    "            alpha = 0\n",
    "            \n",
    "    return number_steps"
   ]
  },
  {
   "cell_type": "code",
   "execution_count": 46,
   "id": "1ed50f83",
   "metadata": {},
   "outputs": [
    {
     "data": {
      "text/plain": [
       "12522"
      ]
     },
     "execution_count": 46,
     "metadata": {},
     "output_type": "execute_result"
    }
   ],
   "source": [
    "width, height = 200, 160\n",
    "x, y = width/2, height/2\n",
    "output_number_double_width_height(x, y, width, height)"
   ]
  },
  {
   "cell_type": "markdown",
   "id": "628b58d5",
   "metadata": {},
   "source": [
    "<strong>Le nombre de steps (transitions) varie en fonction des dimensions du rectangle bien que cela reste aléatoire.</strong>"
   ]
  }
 ],
 "metadata": {
  "kernelspec": {
   "display_name": "Python 3",
   "language": "python",
   "name": "python3"
  },
  "language_info": {
   "codemirror_mode": {
    "name": "ipython",
    "version": 3
   },
   "file_extension": ".py",
   "mimetype": "text/x-python",
   "name": "python",
   "nbconvert_exporter": "python",
   "pygments_lexer": "ipython3",
   "version": "3.8.5"
  }
 },
 "nbformat": 4,
 "nbformat_minor": 5
}
